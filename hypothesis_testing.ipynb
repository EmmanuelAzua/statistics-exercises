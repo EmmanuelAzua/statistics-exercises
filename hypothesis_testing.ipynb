{
 "cells": [
  {
   "cell_type": "markdown",
   "metadata": {},
   "source": [
    "Exercises\n",
    "\n",
    "Do your work for this exercise in a jupyter notebook named hypothesis_testing.ipynb.\n",
    "\n",
    "For each of the following questions:\n",
    "\n",
    "1. Formulate a null and alternative hypothesis (be as specific as you can be);\n",
    "2. Then give an example of what a true positive, true negative, type I and type II errors would look like.\n",
    "\n",
    "Note that some of the questions are intentionally phrased in a vague way. It is your job to reword these as more precise questions that could be tested.\n",
    "\n",
    "- Has the network latency gone up since we switched internet service providers?\n",
    "- Is the website redesign any good?\n",
    "- Is our television ad driving more sales?"
   ]
  },
  {
   "cell_type": "code",
   "execution_count": null,
   "metadata": {},
   "outputs": [],
   "source": [
    "# Question 1. Has the network latency gone up since we switched internet service providers?\n",
    "# Q.1.1. Is there a noticeable difference in the amount of daily network latency events with the new service provider\n",
    "# during the first 30 days of service, when compared to the last 30 days of service with the previous service\n",
    "#  provider?\n",
    "# How about in relationship to the same 30-day period last year\n",
    "\n",
    "# a) Formulate a null hypothesis (be as specific as you can be)\n",
    "'''Null Hypothesis: There is no significant difference in the amount of network latency events with the new service\n",
    "provider during the first 30 days of service, when compared to the last 30 days of service with the previous service\n",
    "provider.'''\n",
    "\n",
    "# b) Formulate alternative hypothesis (be as specific as you can be)\n",
    "'''Alternative Hypothesis: There is a significant difference in the amount of network latency events with the new\n",
    "service provider during the first 30 days of service, when compared to the last 30 days of service with the previous\n",
    "service provider.'''\n",
    "# c) Then give an example of:\n",
    "#     c.1. what a true positive: A true positive would reflect an amount of network latency events between the\n",
    "#          comparison periods that is significantly higher and results in a measure that is larger than 2 standard\n",
    "#          deviations.\n",
    "#     c.2. true negative: A true negative would reflect an amount of network latency events between the comparison\n",
    "#          periods that is NOT significantly higher and does NOT result in a measure that is larger than 2 standard\n",
    "#          deviations.\n",
    "#     c.3. type I error: A Type I error would include the appearance that the amount of latency events between the \n",
    "#          comparison periods is large enough to result in a larger-then 2 standard deviation measure, but that it is\n",
    "#          actually smaller.\n",
    "#     c.4. type II error: A Type II error would include the appearance that the amount of latency events between the \n",
    "#          comparison periods is NOT large enough to result in more than a 2 standard deviation measure, but that it\n",
    "#          is actually larger.\n",
    "\n"
   ]
  },
  {
   "cell_type": "code",
   "execution_count": null,
   "metadata": {},
   "outputs": [],
   "source": [
    "# Question 2. Is the website redesign any good?\n",
    "# Q.1. Has the amount of website likes been larger in the last 30 days than it was before the website was redesigned?\n",
    "# How about in relationship to the same 30-day period last year?\n",
    "\n",
    "# a) Formulate a null hypothesis (be as specific as you can be)\n",
    "'''Null Hypothesis: The amount of website likes has not increased signficantly in the last 30_day period since it was\n",
    "redesigned, nor has it increased in relationship with the same 30-day period last year.'''\n",
    "\n",
    "# b) Formulate alternative hypothesis (be as specific as you can be)\n",
    "'''Alternative Hypothesis: The amount of website likes has increased signficantly in the last 30_day period since it\n",
    "was redesigned, and it has also significantly increased in relationship with the same 30-day period last year.'''\n",
    "# c) Then give an example of:\n",
    "#     c.1. what a true positive: A true positive would reflect an amount of website likes between the comparison\n",
    "#          periods that is significantly higher and results in a measure that is more than 2 standard deviations.\n",
    "#     c.2. true negative: A true negative would reflect an amount of website likes between the comparison periods \n",
    "#          that is NOT significantly higher to result in a measure higher than 2 standard deviations.\n",
    "#     c.3. type I error: A Type I error would include the appearance that the amount of website likes between the \n",
    "#          comparison periods is large enough to result in a larger-than 2 standard deviation measure, but that it is\n",
    "#          actually smaller.\n",
    "#     c.4. type II error: A Type II error would include the appearance that the amount of website likes between the \n",
    "#          comparison periods is NOT large enough to result in more than a 2 standard deviation measure, but that it\n",
    "#           is actually larger."
   ]
  },
  {
   "cell_type": "code",
   "execution_count": null,
   "metadata": {},
   "outputs": [],
   "source": [
    "# Question 3. Is our television ad driving more sales?\n",
    "# Q.1. Has the amount of sales increased significantly in the last 30-day period after launching the television ad?\n",
    "# How about in relationship with the same 30-day period last year?\n",
    "\n",
    "# a) Formulate a null hypothesis (be as specific as you can be)\n",
    "'''Null Hypothesis: The amount of sales has not increased in the last 30_day period since launching the TV ad, nor has\n",
    "   it increased in relationship with the same 30-day period last year.'''\n",
    "\n",
    "# b) Formulate alternative hypothesis (be as specific as you can be)\n",
    "'''Alternative Hypothesis: The amount of sales has increased in the last 30_day period since launching the TV ad, and\n",
    "   it has also increased in relationship with the same 30-day period last year.'''\n",
    "# c) Then give an example of:\n",
    "#     c.1. what a true positive: A true positive would reflect an amount of sales between the comparison periods that \n",
    "#          is significantly higher and results in a measure that is more than 2 standard deviations.\n",
    "#     c.2. true negative: A true negative would reflect an amount of sales between the comparison periods that is NOT \n",
    "#          significantly higher to result in a measure higher than 2 standard deviations.\n",
    "#     c.3. type I error: A Type I error would include the appearance that the amount of sales between the comparison \n",
    "#          periods is large enough to result in a larger-than 2 standard deviation measure, but that it is actually \n",
    "#          smaller.\n",
    "#     c.4. type II error: A Type II error would include the appearance that the amount of sales between the comparison\n",
    "#          periods is NOT large enough to result in more than a 2 standard deviation measure, but that it is actually\n",
    "#          larger."
   ]
  },
  {
   "cell_type": "code",
   "execution_count": null,
   "metadata": {},
   "outputs": [],
   "source": []
  }
 ],
 "metadata": {
  "kernelspec": {
   "display_name": "Python 3",
   "language": "python",
   "name": "python3"
  },
  "language_info": {
   "codemirror_mode": {
    "name": "ipython",
    "version": 3
   },
   "file_extension": ".py",
   "mimetype": "text/x-python",
   "name": "python",
   "nbconvert_exporter": "python",
   "pygments_lexer": "ipython3",
   "version": "3.8.5"
  }
 },
 "nbformat": 4,
 "nbformat_minor": 4
}

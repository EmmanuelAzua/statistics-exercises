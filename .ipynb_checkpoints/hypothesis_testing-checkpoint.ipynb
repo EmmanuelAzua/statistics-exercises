{
 "cells": [
  {
   "cell_type": "markdown",
   "metadata": {},
   "source": [
    "Exercises\n",
    "\n",
    "Do your work for this exercise in a jupyter notebook named hypothesis_testing.ipynb.\n",
    "\n",
    "For each of the following questions:\n",
    "\n",
    "1. Formulate a null and alternative hypothesis (be as specific as you can be);\n",
    "2. Then give an example of what a true positive, true negative, type I and type II errors would look like.\n",
    "\n",
    "Note that some of the questions are intentionally phrased in a vague way. It is your job to reword these as more precise questions that could be tested.\n",
    "\n",
    "- Has the network latency gone up since we switched internet service providers?\n",
    "- Is the website redesign any good?\n",
    "- Is our television ad driving more sales?"
   ]
  },
  {
   "cell_type": "code",
   "execution_count": null,
   "metadata": {},
   "outputs": [],
   "source": [
    "# Question 1. Has the network latency gone up since we switched internet service providers?\n",
    "# Q.1.1. Is there a noticeable difference in the amount of daily network latency events with the new service provider\n",
    "# during the first 30 days of service, when compared to the last 30 days of service with the previous service\n",
    "#  provider?\n",
    "# How about in relationship to the same 30-day period last year\n",
    "\n",
    "# a) Formulate a null hypothesis (be as specific as you can be)\n",
    "'''Null Hypothesis: There is no significant difference in the amount of network latency events with the new service\n",
    "provider during the first 30 days of service, when compared to the last 30 days of service with the previous service\n",
    "provider.'''\n",
    "\n",
    "# b) Formulate alternative hypothesis (be as specific as you can be)\n",
    "'''Alternative Hypothesis: There is a significant difference in the amount of network latency events with the new\n",
    "service provider during the first 30 days of service, when compared to the last 30 days of service with the previous\n",
    "service provider.'''\n",
    "# c) Then give an example of:\n",
    "#     c.1. what a true positive: A true positive would reflect an amount of network latency events between the\n",
    "#          comparison periods that is significantly higher and results in a measure that is larger than 2 standard\n",
    "#          deviations.\n",
    "#     c.2. true negative: A true negative would reflect an amount of network latency events between the comparison\n",
    "#          periods that is NOT significantly higher and does NOT result in a measure that is larger than 2 standard\n",
    "#          deviations.\n",
    "#     c.3. type I error: A Type I error would include the appearance that the amount of latency events between the \n",
    "#          comparison periods is large enough to result in a larger-then 2 standard deviation measure, but that it is\n",
    "#          actually smaller.\n",
    "#     c.4. type II error: A Type II error would include the appearance that the amount of latency events between the \n",
    "#          comparison periods is NOT large enough to result in more than a 2 standard deviation measure, but that it\n",
    "#          is actually larger.\n",
    "\n"
   ]
  },
  {
   "cell_type": "code",
   "execution_count": null,
   "metadata": {},
   "outputs": [],
   "source": [
    "# Question 2. Is the website redesign any good?\n",
    "# Q.1. Has the amount of website likes been larger in the last 30 days than it was before the website was redesigned?\n",
    "# How about in relationship to the same 30-day period last year?\n",
    "\n",
    "# a) Formulate a null hypothesis (be as specific as you can be)\n",
    "'''Null Hypothesis: The amount of website likes has not increased signficantly in the last 30_day period since it was\n",
    "redesigned, nor has it increased in relationship with the same 30-day period last year.'''\n",
    "\n",
    "# b) Formulate alternative hypothesis (be as specific as you can be)\n",
    "'''Alternative Hypothesis: The amount of website likes has increased signficantly in the last 30_day period since it\n",
    "was redesigned, and it has also significantly increased in relationship with the same 30-day period last year.'''\n",
    "# c) Then give an example of:\n",
    "#     c.1. what a true positive: A true positive would reflect an amount of website likes between the comparison\n",
    "#          periods that is significantly higher and results in a measure that is more than 2 standard deviations.\n",
    "#     c.2. true negative: A true negative would reflect an amount of website likes between the comparison periods \n",
    "#          that is NOT significantly higher to result in a measure higher than 2 standard deviations.\n",
    "#     c.3. type I error: A Type I error would include the appearance that the amount of website likes between the \n",
    "#          comparison periods is large enough to result in a larger-than 2 standard deviation measure, but that it is\n",
    "#          actually smaller.\n",
    "#     c.4. type II error: A Type II error would include the appearance that the amount of website likes between the \n",
    "#          comparison periods is NOT large enough to result in more than a 2 standard deviation measure, but that it\n",
    "#           is actually larger."
   ]
  },
  {
   "cell_type": "code",
   "execution_count": null,
   "metadata": {},
   "outputs": [],
   "source": [
    "# Question 3. Is our television ad driving more sales?\n",
    "# Q.1. Has the amount of sales increased significantly in the last 30-day period after launching the television ad?\n",
    "# How about in relationship with the same 30-day period last year?\n",
    "\n",
    "# a) Formulate a null hypothesis (be as specific as you can be)\n",
    "'''Null Hypothesis: The amount of sales has not increased in the last 30_day period since launching the TV ad, nor has\n",
    "   it increased in relationship with the same 30-day period last year.'''\n",
    "\n",
    "# b) Formulate alternative hypothesis (be as specific as you can be)\n",
    "'''Alternative Hypothesis: The amount of sales has increased in the last 30_day period since launching the TV ad, and\n",
    "   it has also increased in relationship with the same 30-day period last year.'''\n",
    "# c) Then give an example of:\n",
    "#     c.1. what a true positive: A true positive would reflect an amount of sales between the comparison periods that \n",
    "#          is significantly higher and results in a measure that is more than 2 standard deviations.\n",
    "#     c.2. true negative: A true negative would reflect an amount of sales between the comparison periods that is NOT \n",
    "#          significantly higher to result in a measure higher than 2 standard deviations.\n",
    "#     c.3. type I error: A Type I error would include the appearance that the amount of sales between the comparison \n",
    "#          periods is large enough to result in a larger-than 2 standard deviation measure, but that it is actually \n",
    "#          smaller.\n",
    "#     c.4. type II error: A Type II error would include the appearance that the amount of sales between the comparison\n",
    "#          periods is NOT large enough to result in more than a 2 standard deviation measure, but that it is actually\n",
    "#          larger."
   ]
  },
  {
   "cell_type": "markdown",
   "metadata": {},
   "source": [
    "Exercises\n",
    "\n",
    "Continue working in your hypothesis_testing notebook.\n",
    "\n",
    "- Ace Realty wants to determine whether the average time it takes to sell homes is different for its two offices. A sample of 40 sales from office #1 revealed a mean of 90 days and a standard deviation of 15 days. A sample of 50 sales from office #2 revealed a mean of 100 days and a standard deviation of 20 days. Use a .05 level of significance.\n",
    "\n",
    "- Load the mpg dataset and use it to answer the following questions:\n",
    "\n",
    "- Is there a difference in fuel-efficiency in cars from 2008 vs 1999?\n",
    "- Are compact cars more fuel-efficient than the average car?\n",
    "- Do manual cars get better gas mileage than automatic cars?"
   ]
  },
  {
   "cell_type": "code",
   "execution_count": 2,
   "metadata": {},
   "outputs": [],
   "source": [
    "import numpy as np\n",
    "import seaborn as sns\n",
    "import scipy.stats as stats\n",
    "import pandas as pd\n",
    "import matplotlib.pyplot as plt"
   ]
  },
  {
   "cell_type": "code",
   "execution_count": 3,
   "metadata": {},
   "outputs": [],
   "source": [
    "# Ace Realty wants to determine whether the average time it takes to sell homes is different for its two offices.\n",
    "#     A sample of 40 sales from office #1 revealed a mean of 90 days and a standard deviation of 15 days.\n",
    "#     A sample of 50 sales from office #2 revealed a mean of 100 days and a standard deviation of 20 days.\n",
    "#     Use a .05 level of significance.\n",
    "\n",
    "sample1 = 40\n",
    "mean1 = 90\n",
    "std_dev1 = 15\n",
    "sample2 = 50\n",
    "mean2 = 100\n",
    "std_dev2 = 20\n",
    "\n",
    "alpha = 0.05"
   ]
  },
  {
   "cell_type": "markdown",
   "metadata": {},
   "source": [
    "B. Set Hypothesis\n",
    "\n",
    "𝐻0 : The average time it takes to sell homes is different in the two offices\n",
    "\n",
    "𝐻𝑎 : The average time it takes to sell homes is NOT different in the two offices\n",
    "\n",
    "Decide?\n",
    "\n",
    "- One sample t-test or 2-sample t-test? === Two Sample\n",
    "- One tailed or two tailed? === Two Tailed\n",
    "\n",
    "C. Set Alpha: 0.05\n",
    "\n",
    "D. Assumptions See above\n",
    "\n",
    "E. Compute test statistics"
   ]
  },
  {
   "cell_type": "code",
   "execution_count": 11,
   "metadata": {},
   "outputs": [],
   "source": [
    "sales1 = stats.norm(mean1, std_dev1)\n",
    "sales2 = stats.norm(mean2, std_dev2)"
   ]
  },
  {
   "cell_type": "code",
   "execution_count": 13,
   "metadata": {},
   "outputs": [
    {
     "data": {
      "text/plain": [
       "(225.0, 400.0)"
      ]
     },
     "execution_count": 13,
     "metadata": {},
     "output_type": "execute_result"
    }
   ],
   "source": [
    "sales1.var(), sales2.var()"
   ]
  },
  {
   "cell_type": "code",
   "execution_count": 17,
   "metadata": {},
   "outputs": [
    {
     "data": {
      "text/plain": [
       "(-2.7091418459143854, 0.00811206270346016, 0.05)"
      ]
     },
     "execution_count": 17,
     "metadata": {},
     "output_type": "execute_result"
    }
   ],
   "source": [
    "# t, p = stats.ttest_ind(sales1, sales2, equal_var = False)\n",
    "# t, p, alpha\n",
    "\n",
    "from scipy.stats import ttest_ind_from_stats\n",
    "\n",
    "t, p = ttest_ind_from_stats(mean1, std_dev1, sample1,\n",
    "                     mean2, std_dev2, sample2,\n",
    "                    equal_var = False)\n",
    "\n",
    "t, p, alpha"
   ]
  },
  {
   "cell_type": "code",
   "execution_count": 18,
   "metadata": {},
   "outputs": [
    {
     "data": {
      "text/plain": [
       "True"
      ]
     },
     "execution_count": 18,
     "metadata": {},
     "output_type": "execute_result"
    }
   ],
   "source": [
    "p < alpha"
   ]
  },
  {
   "cell_type": "markdown",
   "metadata": {},
   "source": [
    "Solution\n",
    "\n",
    "Null hypothesis is rejected: There is a statistically significant difference in the average time it takes the\n",
    "two offices to sell homes."
   ]
  },
  {
   "cell_type": "code",
   "execution_count": null,
   "metadata": {},
   "outputs": [],
   "source": []
  },
  {
   "cell_type": "code",
   "execution_count": null,
   "metadata": {},
   "outputs": [],
   "source": []
  }
 ],
 "metadata": {
  "kernelspec": {
   "display_name": "Python 3",
   "language": "python",
   "name": "python3"
  },
  "language_info": {
   "codemirror_mode": {
    "name": "ipython",
    "version": 3
   },
   "file_extension": ".py",
   "mimetype": "text/x-python",
   "name": "python",
   "nbconvert_exporter": "python",
   "pygments_lexer": "ipython3",
   "version": "3.8.5"
  }
 },
 "nbformat": 4,
 "nbformat_minor": 4
}
